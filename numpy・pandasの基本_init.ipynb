{
  "cells": [
    {
      "metadata": {},
      "cell_type": "markdown",
      "source": "## 　numpy・pandasの基本"
    },
    {
      "metadata": {},
      "cell_type": "markdown",
      "source": "### 分析のための追加機能のインポート"
    },
    {
      "metadata": {
        "trusted": true
      },
      "cell_type": "code",
      "source": "import numpy as np\nimport pandas as pd",
      "execution_count": 3,
      "outputs": []
    },
    {
      "metadata": {},
      "cell_type": "markdown",
      "source": "### 実装：リスト"
    },
    {
      "metadata": {
        "trusted": true
      },
      "cell_type": "code",
      "source": "sample_list = [1,2,3,4,5]\nsample_list",
      "execution_count": 1,
      "outputs": []
    },
    {
      "metadata": {},
      "cell_type": "markdown",
      "source": "### 実装：アレイ"
    },
    {
      "metadata": {
        "trusted": true
      },
      "cell_type": "code",
      "source": "sample_array = np.array([1,2,3,4,5])\nsample_array",
      "execution_count": 4,
      "outputs": []
    },
    {
      "metadata": {},
      "cell_type": "markdown",
      "source": "#### アレイの各要素に2を加える"
    },
    {
      "metadata": {
        "trusted": true
      },
      "cell_type": "code",
      "source": "sample_array + 2",
      "execution_count": 8,
      "outputs": []
    },
    {
      "metadata": {},
      "cell_type": "markdown",
      "source": "#### アレイの各要素を2倍する"
    },
    {
      "metadata": {
        "trusted": true
      },
      "cell_type": "code",
      "source": "sample_array * 2",
      "execution_count": 9,
      "outputs": []
    },
    {
      "metadata": {},
      "cell_type": "markdown",
      "source": "#### アレイの要素の型"
    },
    {
      "metadata": {
        "trusted": false
      },
      "cell_type": "code",
      "source": "np.array([1 ,2, \"A\"])",
      "execution_count": 6,
      "outputs": [
        {
          "data": {
            "text/plain": "array(['1', '2', 'A'],\n      dtype='<U11')"
          },
          "execution_count": 6,
          "metadata": {},
          "output_type": "execute_result"
        }
      ]
    },
    {
      "metadata": {
        "trusted": false
      },
      "cell_type": "code",
      "source": "# 行列=アレイのアレイ\nsample_array_2 = np.array(\n    [[1,2,3,4,5],\n     [6,7,8,9,10]])\nsample_array_2",
      "execution_count": 20,
      "outputs": [
        {
          "data": {
            "text/plain": "array([[ 1,  2,  3,  4,  5],\n       [ 6,  7,  8,  9, 10]])"
          },
          "execution_count": 20,
          "metadata": {},
          "output_type": "execute_result"
        }
      ]
    },
    {
      "metadata": {
        "trusted": false
      },
      "cell_type": "code",
      "source": "# 行数・列数の確認\nsample_array_2.shape",
      "execution_count": 21,
      "outputs": [
        {
          "data": {
            "text/plain": "(2, 5)"
          },
          "execution_count": 21,
          "metadata": {},
          "output_type": "execute_result"
        }
      ]
    },
    {
      "metadata": {},
      "cell_type": "markdown",
      "source": "### 実装：等差数列の作成方法"
    },
    {
      "metadata": {
        "trusted": false
      },
      "cell_type": "code",
      "source": "np.arange(start = 1, stop = 6, step = 1)",
      "execution_count": 8,
      "outputs": [
        {
          "data": {
            "text/plain": "array([1, 2, 3, 4, 5])"
          },
          "execution_count": 8,
          "metadata": {},
          "output_type": "execute_result"
        }
      ]
    },
    {
      "metadata": {
        "trusted": false
      },
      "cell_type": "code",
      "source": "np.arange(start = 0.1, stop = 0.8, step = 0.2)",
      "execution_count": 9,
      "outputs": [
        {
          "data": {
            "text/plain": "array([ 0.1,  0.3,  0.5,  0.7])"
          },
          "execution_count": 9,
          "metadata": {},
          "output_type": "execute_result"
        }
      ]
    },
    {
      "metadata": {
        "trusted": false
      },
      "cell_type": "code",
      "source": "np.arange(0.1, 0.8, 0.2)",
      "execution_count": 10,
      "outputs": [
        {
          "data": {
            "text/plain": "array([ 0.1,  0.3,  0.5,  0.7])"
          },
          "execution_count": 10,
          "metadata": {},
          "output_type": "execute_result"
        }
      ]
    },
    {
      "metadata": {},
      "cell_type": "markdown",
      "source": "### 実装：様々なアレイの作成方法"
    },
    {
      "metadata": {
        "trusted": true
      },
      "cell_type": "code",
      "source": "# 同じ値の繰り返し\nnp.tile(\"A\", 5)",
      "execution_count": 10,
      "outputs": [
        {
          "output_type": "execute_result",
          "execution_count": 10,
          "data": {
            "text/plain": "array(['A', 'A', 'A', 'A', 'A'], dtype='<U1')"
          },
          "metadata": {}
        }
      ]
    },
    {
      "metadata": {
        "trusted": true
      },
      "cell_type": "code",
      "source": "# 0を4回繰り返す\nnp.tile(0, 4)",
      "execution_count": 11,
      "outputs": [
        {
          "output_type": "execute_result",
          "execution_count": 11,
          "data": {
            "text/plain": "array([0, 0, 0, 0])"
          },
          "metadata": {}
        }
      ]
    },
    {
      "metadata": {
        "trusted": true
      },
      "cell_type": "code",
      "source": "# ゼロ埋めのアレイ\nnp.zeros(4)",
      "execution_count": 12,
      "outputs": [
        {
          "output_type": "execute_result",
          "execution_count": 12,
          "data": {
            "text/plain": "array([0., 0., 0., 0.])"
          },
          "metadata": {}
        }
      ]
    },
    {
      "metadata": {
        "trusted": true
      },
      "cell_type": "code",
      "source": "# 2次元配列\nnp.zeros([2,3])",
      "execution_count": 13,
      "outputs": [
        {
          "output_type": "execute_result",
          "execution_count": 13,
          "data": {
            "text/plain": "array([[0., 0., 0.],\n       [0., 0., 0.]])"
          },
          "metadata": {}
        }
      ]
    },
    {
      "metadata": {
        "trusted": true
      },
      "cell_type": "code",
      "source": "# 1埋めのアレイ\nnp.ones(3)",
      "execution_count": 14,
      "outputs": [
        {
          "output_type": "execute_result",
          "execution_count": 14,
          "data": {
            "text/plain": "array([1., 1., 1.])"
          },
          "metadata": {}
        }
      ]
    },
    {
      "metadata": {},
      "cell_type": "markdown",
      "source": "### 実装：スライシング"
    },
    {
      "metadata": {
        "trusted": false
      },
      "cell_type": "code",
      "source": "# 1次元配列\nd1_array = np.array([1,2,3,4,5])\nd1_array",
      "execution_count": 19,
      "outputs": [
        {
          "data": {
            "text/plain": "array([1, 2, 3, 4, 5])"
          },
          "execution_count": 19,
          "metadata": {},
          "output_type": "execute_result"
        }
      ]
    },
    {
      "metadata": {
        "trusted": false
      },
      "cell_type": "code",
      "source": "# 最初の要素を取得\nd1_array[0]",
      "execution_count": 17,
      "outputs": [
        {
          "data": {
            "text/plain": "1"
          },
          "execution_count": 17,
          "metadata": {},
          "output_type": "execute_result"
        }
      ]
    },
    {
      "metadata": {
        "trusted": false
      },
      "cell_type": "code",
      "source": "# 2~3番目の要素を取得\nd1_array[1:3]",
      "execution_count": 18,
      "outputs": [
        {
          "data": {
            "text/plain": "array([2, 3])"
          },
          "execution_count": 18,
          "metadata": {},
          "output_type": "execute_result"
        }
      ]
    },
    {
      "metadata": {
        "trusted": false
      },
      "cell_type": "code",
      "source": "# 2次元配列\nd2_array = np.array(\n    [[1,2,3,4,5],\n    [6,7,8,9,10]])\nd2_array",
      "execution_count": 17,
      "outputs": [
        {
          "data": {
            "text/plain": "array([[ 1,  2,  3,  4,  5],\n       [ 6,  7,  8,  9, 10]])"
          },
          "execution_count": 17,
          "metadata": {},
          "output_type": "execute_result"
        }
      ]
    },
    {
      "metadata": {
        "trusted": false
      },
      "cell_type": "code",
      "source": "d2_array[0, 3]",
      "execution_count": 18,
      "outputs": [
        {
          "data": {
            "text/plain": "4"
          },
          "execution_count": 18,
          "metadata": {},
          "output_type": "execute_result"
        }
      ]
    },
    {
      "metadata": {
        "trusted": false
      },
      "cell_type": "code",
      "source": "d2_array[1, 2:4]",
      "execution_count": 19,
      "outputs": [
        {
          "data": {
            "text/plain": "array([8, 9])"
          },
          "execution_count": 19,
          "metadata": {},
          "output_type": "execute_result"
        }
      ]
    },
    {
      "metadata": {},
      "cell_type": "markdown",
      "source": "### 実装：データフレーム"
    },
    {
      "metadata": {
        "trusted": false
      },
      "cell_type": "code",
      "source": "sample_df = pd.DataFrame({\n    'col1' : sample_array, \n    'col2' : sample_array * 2,\n    'col3' : [\"A\", \"B\", \"C\", \"D\", \"E\"]\n})\nprint(sample_df)",
      "execution_count": 20,
      "outputs": [
        {
          "name": "stdout",
          "output_type": "stream",
          "text": "   col1  col2 col3\n0     1     2    A\n1     2     4    B\n2     3     6    C\n3     4     8    D\n4     5    10    E\n"
        }
      ]
    },
    {
      "metadata": {
        "trusted": false
      },
      "cell_type": "code",
      "source": "sample_df",
      "execution_count": 21,
      "outputs": [
        {
          "data": {
            "text/html": "<div>\n<style>\n    .dataframe thead tr:only-child th {\n        text-align: right;\n    }\n\n    .dataframe thead th {\n        text-align: left;\n    }\n\n    .dataframe tbody tr th {\n        vertical-align: top;\n    }\n</style>\n<table border=\"1\" class=\"dataframe\">\n  <thead>\n    <tr style=\"text-align: right;\">\n      <th></th>\n      <th>col1</th>\n      <th>col2</th>\n      <th>col3</th>\n    </tr>\n  </thead>\n  <tbody>\n    <tr>\n      <th>0</th>\n      <td>1</td>\n      <td>2</td>\n      <td>A</td>\n    </tr>\n    <tr>\n      <th>1</th>\n      <td>2</td>\n      <td>4</td>\n      <td>B</td>\n    </tr>\n    <tr>\n      <th>2</th>\n      <td>3</td>\n      <td>6</td>\n      <td>C</td>\n    </tr>\n    <tr>\n      <th>3</th>\n      <td>4</td>\n      <td>8</td>\n      <td>D</td>\n    </tr>\n    <tr>\n      <th>4</th>\n      <td>5</td>\n      <td>10</td>\n      <td>E</td>\n    </tr>\n  </tbody>\n</table>\n</div>",
            "text/plain": "   col1  col2 col3\n0     1     2    A\n1     2     4    B\n2     3     6    C\n3     4     8    D\n4     5    10    E"
          },
          "execution_count": 21,
          "metadata": {},
          "output_type": "execute_result"
        }
      ]
    },
    {
      "metadata": {},
      "cell_type": "markdown",
      "source": "### 実装：ファイルデータの読み込み"
    },
    {
      "metadata": {
        "trusted": false
      },
      "cell_type": "code",
      "source": "file_data = pd.read_csv(\"titanic.csv\")\nprint(file_data)",
      "execution_count": 22,
      "outputs": [
        {
          "name": "stdout",
          "output_type": "stream",
          "text": "   col1 col2\n0     1    A\n1     2    A\n2     3    B\n3     4    B\n4     5    C\n5     6    C\n"
        }
      ]
    },
    {
      "metadata": {
        "trusted": false
      },
      "cell_type": "code",
      "source": "type(file_data)",
      "execution_count": 23,
      "outputs": [
        {
          "data": {
            "text/plain": "pandas.core.frame.DataFrame"
          },
          "execution_count": 23,
          "metadata": {},
          "output_type": "execute_result"
        }
      ]
    },
    {
      "metadata": {},
      "cell_type": "markdown",
      "source": "### 実装：データフレームの結合"
    },
    {
      "metadata": {
        "collapsed": true,
        "trusted": false
      },
      "cell_type": "code",
      "source": "df_1 = pd.DataFrame({\n    'col1' : np.array([1, 2, 3]),\n    'col2' : np.array([\"A\", \"B\", \"C\"])\n})\ndf_2 = pd.DataFrame({\n    'col1' : np.array([4, 5, 6]),\n    'col2' : np.array([\"D\", \"E\", \"F\"])\n})",
      "execution_count": 24,
      "outputs": []
    },
    {
      "metadata": {
        "trusted": false
      },
      "cell_type": "code",
      "source": "# 縦に結合\nprint(pd.concat([df_1, df_2]))",
      "execution_count": 25,
      "outputs": [
        {
          "name": "stdout",
          "output_type": "stream",
          "text": "   col1 col2\n0     1    A\n1     2    B\n2     3    C\n0     4    D\n1     5    E\n2     6    F\n"
        }
      ]
    },
    {
      "metadata": {
        "trusted": false
      },
      "cell_type": "code",
      "source": "# 横に結合\nprint(pd.concat([df_1, df_2], axis = 1))",
      "execution_count": 26,
      "outputs": [
        {
          "name": "stdout",
          "output_type": "stream",
          "text": "   col1 col2  col1 col2\n0     1    A     4    D\n1     2    B     5    E\n2     3    C     6    F\n"
        }
      ]
    },
    {
      "metadata": {},
      "cell_type": "markdown",
      "source": "### 実装：列に対するデータフレームの操作"
    },
    {
      "metadata": {
        "trusted": false
      },
      "cell_type": "code",
      "source": "# 対象データ\nprint(sample_df)",
      "execution_count": 27,
      "outputs": [
        {
          "name": "stdout",
          "output_type": "stream",
          "text": "   col1  col2 col3\n0     1     2    A\n1     2     4    B\n2     3     6    C\n3     4     8    D\n4     5    10    E\n"
        }
      ]
    },
    {
      "metadata": {
        "trusted": false
      },
      "cell_type": "code",
      "source": "# 列名を指定して抽出\nprint(sample_df.col2)",
      "execution_count": 28,
      "outputs": [
        {
          "name": "stdout",
          "output_type": "stream",
          "text": "0     2\n1     4\n2     6\n3     8\n4    10\nName: col2, dtype: int32\n"
        }
      ]
    },
    {
      "metadata": {
        "trusted": false
      },
      "cell_type": "code",
      "source": "print(sample_df[\"col2\"])",
      "execution_count": 29,
      "outputs": [
        {
          "name": "stdout",
          "output_type": "stream",
          "text": "0     2\n1     4\n2     6\n3     8\n4    10\nName: col2, dtype: int32\n"
        }
      ]
    },
    {
      "metadata": {
        "trusted": false
      },
      "cell_type": "code",
      "source": "print(sample_df[[\"col2\", \"col3\"]])",
      "execution_count": 30,
      "outputs": [
        {
          "name": "stdout",
          "output_type": "stream",
          "text": "   col2 col3\n0     2    A\n1     4    B\n2     6    C\n3     8    D\n4    10    E\n"
        }
      ]
    },
    {
      "metadata": {
        "trusted": false
      },
      "cell_type": "code",
      "source": "# 列の削除\nprint(sample_df.drop(\"col1\", axis = 1))",
      "execution_count": 31,
      "outputs": [
        {
          "name": "stdout",
          "output_type": "stream",
          "text": "   col2 col3\n0     2    A\n1     4    B\n2     6    C\n3     8    D\n4    10    E\n"
        }
      ]
    },
    {
      "metadata": {},
      "cell_type": "markdown",
      "source": "### 実装：列に対するデータフレームの操作"
    },
    {
      "metadata": {
        "trusted": false
      },
      "cell_type": "code",
      "source": "# 最初の3行だけを抽出\nprint(sample_df.head(n = 3))",
      "execution_count": 32,
      "outputs": [
        {
          "name": "stdout",
          "output_type": "stream",
          "text": "   col1  col2 col3\n0     1     2    A\n1     2     4    B\n2     3     6    C\n"
        }
      ]
    },
    {
      "metadata": {
        "trusted": false
      },
      "cell_type": "code",
      "source": "# 最初の行を抽出\nprint(sample_df.query('index == 0'))",
      "execution_count": 33,
      "outputs": [
        {
          "name": "stdout",
          "output_type": "stream",
          "text": "   col1  col2 col3\n0     1     2    A\n"
        }
      ]
    },
    {
      "metadata": {
        "trusted": false
      },
      "cell_type": "code",
      "source": "# 様々な条件で抽出\nprint(sample_df.query('col3 == \"A\"'))",
      "execution_count": 34,
      "outputs": [
        {
          "name": "stdout",
          "output_type": "stream",
          "text": "   col1  col2 col3\n0     1     2    A\n"
        }
      ]
    },
    {
      "metadata": {
        "trusted": false
      },
      "cell_type": "code",
      "source": "# OR条件で抽出\nprint(sample_df.query('col3 == \"A\" | col3 == \"D\"'))",
      "execution_count": 35,
      "outputs": [
        {
          "name": "stdout",
          "output_type": "stream",
          "text": "   col1  col2 col3\n0     1     2    A\n3     4     8    D\n"
        }
      ]
    },
    {
      "metadata": {
        "trusted": false
      },
      "cell_type": "code",
      "source": "# AND条件で抽出\nprint(sample_df.query('col3 == \"A\" & col1 == 3'))",
      "execution_count": 36,
      "outputs": [
        {
          "name": "stdout",
          "output_type": "stream",
          "text": "Empty DataFrame\nColumns: [col1, col2, col3]\nIndex: []\n"
        }
      ]
    },
    {
      "metadata": {
        "trusted": false
      },
      "cell_type": "code",
      "source": "# 行も列も選択する\nprint(sample_df.query('col3 == \"A\"')[[\"col2\", \"col3\"]])",
      "execution_count": 37,
      "outputs": [
        {
          "name": "stdout",
          "output_type": "stream",
          "text": "   col2 col3\n0     2    A\n"
        }
      ]
    },
    {
      "metadata": {},
      "cell_type": "markdown",
      "source": "### 補足：シリーズ"
    },
    {
      "metadata": {
        "trusted": false
      },
      "cell_type": "code",
      "source": "type(sample_df)",
      "execution_count": 38,
      "outputs": [
        {
          "data": {
            "text/plain": "pandas.core.frame.DataFrame"
          },
          "execution_count": 38,
          "metadata": {},
          "output_type": "execute_result"
        }
      ]
    },
    {
      "metadata": {
        "trusted": false
      },
      "cell_type": "code",
      "source": "type(sample_df.col1)",
      "execution_count": 39,
      "outputs": [
        {
          "data": {
            "text/plain": "pandas.core.series.Series"
          },
          "execution_count": 39,
          "metadata": {},
          "output_type": "execute_result"
        }
      ]
    },
    {
      "metadata": {
        "trusted": false
      },
      "cell_type": "code",
      "source": "# アレイへの変換\ntype(np.array(sample_df.col1))",
      "execution_count": 40,
      "outputs": [
        {
          "data": {
            "text/plain": "numpy.ndarray"
          },
          "execution_count": 40,
          "metadata": {},
          "output_type": "execute_result"
        }
      ]
    },
    {
      "metadata": {
        "trusted": false
      },
      "cell_type": "code",
      "source": "type(sample_df.col1.values)",
      "execution_count": 41,
      "outputs": [
        {
          "data": {
            "text/plain": "numpy.ndarray"
          },
          "execution_count": 41,
          "metadata": {},
          "output_type": "execute_result"
        }
      ]
    },
    {
      "metadata": {},
      "cell_type": "markdown",
      "source": "### 参考：関数のヘルプ"
    },
    {
      "metadata": {
        "scrolled": true,
        "trusted": false
      },
      "cell_type": "code",
      "source": "help(sample_df.query)",
      "execution_count": 42,
      "outputs": [
        {
          "name": "stdout",
          "output_type": "stream",
          "text": "Help on method query in module pandas.core.frame:\n\nquery(expr, inplace=False, **kwargs) method of pandas.core.frame.DataFrame instance\n    Query the columns of a frame with a boolean expression.\n    \n    .. versionadded:: 0.13\n    \n    Parameters\n    ----------\n    expr : string\n        The query string to evaluate.  You can refer to variables\n        in the environment by prefixing them with an '@' character like\n        ``@a + b``.\n    inplace : bool\n        Whether the query should modify the data in place or return\n        a modified copy\n    \n        .. versionadded:: 0.18.0\n    \n    kwargs : dict\n        See the documentation for :func:`pandas.eval` for complete details\n        on the keyword arguments accepted by :meth:`DataFrame.query`.\n    \n    Returns\n    -------\n    q : DataFrame\n    \n    Notes\n    -----\n    The result of the evaluation of this expression is first passed to\n    :attr:`DataFrame.loc` and if that fails because of a\n    multidimensional key (e.g., a DataFrame) then the result will be passed\n    to :meth:`DataFrame.__getitem__`.\n    \n    This method uses the top-level :func:`pandas.eval` function to\n    evaluate the passed query.\n    \n    The :meth:`~pandas.DataFrame.query` method uses a slightly\n    modified Python syntax by default. For example, the ``&`` and ``|``\n    (bitwise) operators have the precedence of their boolean cousins,\n    :keyword:`and` and :keyword:`or`. This *is* syntactically valid Python,\n    however the semantics are different.\n    \n    You can change the semantics of the expression by passing the keyword\n    argument ``parser='python'``. This enforces the same semantics as\n    evaluation in Python space. Likewise, you can pass ``engine='python'``\n    to evaluate an expression using Python itself as a backend. This is not\n    recommended as it is inefficient compared to using ``numexpr`` as the\n    engine.\n    \n    The :attr:`DataFrame.index` and\n    :attr:`DataFrame.columns` attributes of the\n    :class:`~pandas.DataFrame` instance are placed in the query namespace\n    by default, which allows you to treat both the index and columns of the\n    frame as a column in the frame.\n    The identifier ``index`` is used for the frame index; you can also\n    use the name of the index to identify it in a query.\n    \n    For further details and examples see the ``query`` documentation in\n    :ref:`indexing <indexing.query>`.\n    \n    See Also\n    --------\n    pandas.eval\n    DataFrame.eval\n    \n    Examples\n    --------\n    >>> from numpy.random import randn\n    >>> from pandas import DataFrame\n    >>> df = DataFrame(randn(10, 2), columns=list('ab'))\n    >>> df.query('a > b')\n    >>> df[df.a > df.b]  # same result as the previous expression\n\n"
        }
      ]
    },
    {
      "metadata": {
        "collapsed": true,
        "trusted": false
      },
      "cell_type": "code",
      "source": "",
      "execution_count": null,
      "outputs": []
    }
  ],
  "metadata": {
    "kernelspec": {
      "name": "python3",
      "display_name": "Python 3",
      "language": "python"
    },
    "language_info": {
      "mimetype": "text/x-python",
      "nbconvert_exporter": "python",
      "name": "python",
      "file_extension": ".py",
      "version": "3.5.4",
      "pygments_lexer": "ipython3",
      "codemirror_mode": {
        "version": 3,
        "name": "ipython"
      }
    }
  },
  "nbformat": 4,
  "nbformat_minor": 2
}