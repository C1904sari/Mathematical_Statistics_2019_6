{
  "cells": [
    {
      "metadata": {
        "collapsed": true
      },
      "cell_type": "markdown",
      "source": "# 数理統計学（2019後期）\n\n\n## データサイエンスにおける数理統計学の位置づけ ##\n\n\n### データサイエンス\nデータサイエンスとは、データに対して科学的な方法（収集、可視化、分析と解析、マイニング、評価、考察など）を適用することによって仮説を立て、その仮説を検証し、そのデータの本質を解明する科学（技術）のことをいう。\n\nデータサイエンスは、データに基づく意思決定や行動に役立つ。\n\n![データサイエンスの概要](guidance_picture_1.png)\n\n\n## 学習項目\n1. データの扱い\n1. データの可視化\n1. 確率の基礎\n1. 正規分布\n1. ポアソン分布\n1. 推定\n1. 仮説検定\n1. 単回帰分析\n1. 重回帰分析\n\n\n"
    },
    {
      "metadata": {},
      "cell_type": "markdown",
      "source": "### 第1章　データの扱い\n\n1.1  データの種類\n+ 量的データ(quantitative data):数値として表現できる。比率データと間隔データとに分類できる。\n+ 質的データ(qualitative data)：定性的に表され、非数値表現となる。数値が割り当てられるが、カテゴリーデータと順位データとに分類される。\n\n#### 量的データ\n\n+ 比例データ：比例や大小関係に意味がある。（例）身長、年齢など。スカイツリーの高さは、東京タワーの高さの1.904倍である。\n\n+ 間隔データ：大小関係に加えて、間隔（差）に意味がある。（例）試験の点数。気温30℃と20℃の温度差は、10℃と0℃の温度差と同じである。\n\n#### 質的データ\n+ カテゴリーデータ：分類や区分に意味がある。（例）名前、血液型、電話番号などに形式的に数字や記号を割り当てたもの。\n+ 順位データ：順序に意味がある。（例）成績5と成績4との差を成績2と成績1との差と比べることは意味がない。成績(A>B>C>D>E>F)など。\n\n"
    },
    {
      "metadata": {},
      "cell_type": "markdown",
      "source": "\n1.2 予測と推定\n\n![テキスト図1.7](fig_1_7.png)\n\nダイナミクスのない対象を扱う分野（統計、パターン認識などの分野）では、未知のものを言い当てることを予測する(predict)という。\nダイナミクスのある対象（たとえば、音声などの時系列データ）を扱う分野では、将来の状態を知ることを予測する(predict)といい、現在と過去の観測できない状態をしることを推定する（estimate)という。\n"
    },
    {
      "metadata": {},
      "cell_type": "markdown",
      "source": "1.3 データの格納\n\nデータは、numpy.ndarray、pandas.DataFrameというクラスを用いて格納する。\n\n1.3.1 numpy.ndarray\n\n numpy.ndarrayは、N次元配列を作成するクラスである。"
    },
    {
      "metadata": {
        "trusted": true
      },
      "cell_type": "code",
      "source": "import numpy as np\n\nx = np.array([[1, 2, 3], [4, 5, 6]], dtype=np.float64)\nprint('type(x):', type(x), '  x.shape:', x.shape, '  x.dtype', x.dtype)",
      "execution_count": 3,
      "outputs": [
        {
          "output_type": "stream",
          "text": "type(x): <class 'numpy.ndarray'>   x.shape: (2, 3)   x.dtype float64\n",
          "name": "stdout"
        }
      ]
    },
    {
      "metadata": {},
      "cell_type": "markdown",
      "source": "1.3.2 pandas.DataFrame\n\npandas.DataFrameクラスは、データベース形式のデータや時系列データなどを格納するのに用いられる。このクラスは、2次元データを格納し、データ要素の型は異なっていてもよく、配列長は可変長である。\n\npandas.Seriesは、1次元データを格納する。\n"
    }
  ],
  "metadata": {
    "kernelspec": {
      "name": "python36",
      "display_name": "Python 3.6",
      "language": "python"
    },
    "language_info": {
      "mimetype": "text/x-python",
      "nbconvert_exporter": "python",
      "name": "python",
      "pygments_lexer": "ipython3",
      "version": "3.6.6",
      "file_extension": ".py",
      "codemirror_mode": {
        "version": 3,
        "name": "ipython"
      }
    }
  },
  "nbformat": 4,
  "nbformat_minor": 2
}